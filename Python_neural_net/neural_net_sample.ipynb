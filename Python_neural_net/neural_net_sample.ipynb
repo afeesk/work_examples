{
 "cells": [
  {
   "cell_type": "markdown",
   "metadata": {
    "collapsed": true
   },
   "source": [
    "## Statlog (German Credit Data) Data Set\n",
    "Description of the German credit dataset.\n",
    "\n",
    "1. Title: German Credit data\n",
    "\n",
    "2. Source Information\n",
    "\n",
    "Professor Dr. Hans Hofmann  \n",
    "Institut f\"ur Statistik und \"Okonometrie  \n",
    "Universit\"at Hamburg  \n",
    "FB Wirtschaftswissenschaften  \n",
    "Von-Melle-Park 5    \n",
    "2000 Hamburg 13 \n",
    "\n",
    "3. Number of Instances:  1000\n",
    "\n",
    "Two datasets are provided.  the original dataset, in the form provided\n",
    "by Prof. Hofmann, contains categorical/symbolic attributes and\n",
    "is in the file \"german.data\".   \n",
    " \n",
    "For algorithms that need numerical attributes, Strathclyde University \n",
    "produced the file \"german.data-numeric\".  This file has been edited \n",
    "and several indicator variables added to make it suitable for \n",
    "algorithms which cannot cope with categorical variables.   Several\n",
    "attributes that are ordered categorical (such as attribute 17) have\n",
    "been coded as integer.    This was the form used by StatLog.\n",
    "\n",
    "\n",
    "6. Number of Attributes german: 20 (7 numerical, 13 categorical)\n",
    "   Number of Attributes german.numer: 24 (24 numerical)\n",
    "\n",
    "\n",
    "7.  Attribute description for german\n",
    "\n",
    "Attribute 1:  (qualitative)\n",
    "\t       Status of existing checking account\n",
    "               A11 :      ... <    0 DM\n",
    "\t       A12 : 0 <= ... <  200 DM\n",
    "\t       A13 :      ... >= 200 DM /\n",
    "\t\t     salary assignments for at least 1 year\n",
    "               A14 : no checking account\n",
    "\n",
    "Attribute 2:  (numerical)\n",
    "\t      Duration in month\n",
    "\n",
    "Attribute 3:  (qualitative)\n",
    "\t      Credit history\n",
    "\t      A30 : no credits taken/\n",
    "\t\t    all credits paid back duly\n",
    "              A31 : all credits at this bank paid back duly\n",
    "\t      A32 : existing credits paid back duly till now\n",
    "              A33 : delay in paying off in the past\n",
    "\t      A34 : critical account/\n",
    "\t\t    other credits existing (not at this bank)\n",
    "\n",
    "Attribute 4:  (qualitative)\n",
    "\t      Purpose\n",
    "\t      A40 : car (new)\n",
    "\t      A41 : car (used)\n",
    "\t      A42 : furniture/equipment\n",
    "\t      A43 : radio/television\n",
    "\t      A44 : domestic appliances\n",
    "\t      A45 : repairs\n",
    "\t      A46 : education\n",
    "\t      A47 : (vacation - does not exist?)\n",
    "\t      A48 : retraining\n",
    "\t      A49 : business\n",
    "\t      A410 : others\n",
    "\n",
    "Attribute 5:  (numerical)\n",
    "\t      Credit amount\n",
    "\n",
    "Attibute 6:  (qualitative)\n",
    "\t      Savings account/bonds\n",
    "\t      A61 :          ... <  100 DM\n",
    "\t      A62 :   100 <= ... <  500 DM\n",
    "\t      A63 :   500 <= ... < 1000 DM\n",
    "\t      A64 :          .. >= 1000 DM\n",
    "              A65 :   unknown/ no savings account\n",
    "\n",
    "Attribute 7:  (qualitative)\n",
    "\t      Present employment since\n",
    "\t      A71 : unemployed\n",
    "\t      A72 :       ... < 1 year\n",
    "\t      A73 : 1  <= ... < 4 years  \n",
    "\t      A74 : 4  <= ... < 7 years\n",
    "\t      A75 :       .. >= 7 years\n",
    "\n",
    "Attribute 8:  (numerical)\n",
    "\t      Installment rate in percentage of disposable income\n",
    "\n",
    "Attribute 9:  (qualitative)\n",
    "\t      Personal status and sex\n",
    "\t      A91 : male   : divorced/separated\n",
    "\t      A92 : female : divorced/separated/married\n",
    "              A93 : male   : single\n",
    "\t      A94 : male   : married/widowed\n",
    "\t      A95 : female : single\n",
    "\n",
    "Attribute 10: (qualitative)\n",
    "\t      Other debtors / guarantors\n",
    "\t      A101 : none\n",
    "\t      A102 : co-applicant\n",
    "\t      A103 : guarantor\n",
    "\n",
    "Attribute 11: (numerical)\n",
    "\t      Present residence since\n",
    "\n",
    "Attribute 12: (qualitative)\n",
    "\t      Property\n",
    "\t      A121 : real estate\n",
    "\t      A122 : if not A121 : building society savings agreement/\n",
    "\t\t\t\t   life insurance\n",
    "              A123 : if not A121/A122 : car or other, not in attribute 6\n",
    "\t      A124 : unknown / no property\n",
    "\n",
    "Attribute 13: (numerical)\n",
    "\t      Age in years\n",
    "\n",
    "Attribute 14: (qualitative)\n",
    "\t      Other installment plans \n",
    "\t      A141 : bank\n",
    "\t      A142 : stores\n",
    "\t      A143 : none\n",
    "\n",
    "Attribute 15: (qualitative)\n",
    "\t      Housing\n",
    "\t      A151 : rent\n",
    "\t      A152 : own\n",
    "\t      A153 : for free\n",
    "\n",
    "Attribute 16: (numerical)\n",
    "              Number of existing credits at this bank\n",
    "\n",
    "Attribute 17: (qualitative)\n",
    "\t      Job\n",
    "\t      A171 : unemployed/ unskilled  - non-resident\n",
    "\t      A172 : unskilled - resident\n",
    "\t      A173 : skilled employee / official\n",
    "\t      A174 : management/ self-employed/\n",
    "\t\t     highly qualified employee/ officer\n",
    "\n",
    "Attribute 18: (numerical)\n",
    "\t      Number of people being liable to provide maintenance for\n",
    "\n",
    "Attribute 19: (qualitative)\n",
    "\t      Telephone\n",
    "\t      A191 : none\n",
    "\t      A192 : yes, registered under the customers name\n",
    "\n",
    "Attribute 20: (qualitative)\n",
    "\t      foreign worker\n",
    "\t      A201 : yes\n",
    "\t      A202 : no\n",
    "    \n",
    "Attribute 21: (categorical)\n",
    "          class\n",
    "          1 = Good,  2 = Bad\n",
    "           \n",
    "For this analysis, I am using the categorical/symbolic attributes.\n",
    "\n",
    "### Let's get started."
   ]
  },
  {
   "cell_type": "code",
   "execution_count": 9,
   "metadata": {},
   "outputs": [],
   "source": [
    "# import the required library, pandas for loading and data munging, matplotlib for ploting\n",
    "import pandas as pd\n",
    "import seaborn as sns\n",
    "import matplotlib.pyplot as plt\n",
    "%matplotlib inline"
   ]
  },
  {
   "cell_type": "code",
   "execution_count": 80,
   "metadata": {},
   "outputs": [
    {
     "data": {
      "text/html": [
       "<div>\n",
       "<style scoped>\n",
       "    .dataframe tbody tr th:only-of-type {\n",
       "        vertical-align: middle;\n",
       "    }\n",
       "\n",
       "    .dataframe tbody tr th {\n",
       "        vertical-align: top;\n",
       "    }\n",
       "\n",
       "    .dataframe thead th {\n",
       "        text-align: right;\n",
       "    }\n",
       "</style>\n",
       "<table border=\"1\" class=\"dataframe\">\n",
       "  <thead>\n",
       "    <tr style=\"text-align: right;\">\n",
       "      <th></th>\n",
       "      <th>Status_of_existing_checking</th>\n",
       "      <th>Duration_in_month</th>\n",
       "      <th>Credit_history</th>\n",
       "      <th>Purpose</th>\n",
       "      <th>Credit_amount</th>\n",
       "      <th>Savings_account</th>\n",
       "      <th>Present_employment_since</th>\n",
       "      <th>Installment_rate_in_percentage</th>\n",
       "      <th>Personal_status_and_sex</th>\n",
       "      <th>Other_debtors_guarantors</th>\n",
       "      <th>...</th>\n",
       "      <th>Property</th>\n",
       "      <th>Age_in_years</th>\n",
       "      <th>Other_installment_plans</th>\n",
       "      <th>Housing</th>\n",
       "      <th>Number_of_existing_credits</th>\n",
       "      <th>Job</th>\n",
       "      <th>Number_of_people_dependent</th>\n",
       "      <th>Telephone</th>\n",
       "      <th>foreign_worker</th>\n",
       "      <th>class</th>\n",
       "    </tr>\n",
       "  </thead>\n",
       "  <tbody>\n",
       "    <tr>\n",
       "      <th>0</th>\n",
       "      <td>A11</td>\n",
       "      <td>6</td>\n",
       "      <td>A34</td>\n",
       "      <td>A43</td>\n",
       "      <td>1169</td>\n",
       "      <td>A65</td>\n",
       "      <td>A75</td>\n",
       "      <td>4</td>\n",
       "      <td>A93</td>\n",
       "      <td>A101</td>\n",
       "      <td>...</td>\n",
       "      <td>A121</td>\n",
       "      <td>67</td>\n",
       "      <td>A143</td>\n",
       "      <td>A152</td>\n",
       "      <td>2</td>\n",
       "      <td>A173</td>\n",
       "      <td>1</td>\n",
       "      <td>A192</td>\n",
       "      <td>A201</td>\n",
       "      <td>1</td>\n",
       "    </tr>\n",
       "    <tr>\n",
       "      <th>1</th>\n",
       "      <td>A12</td>\n",
       "      <td>48</td>\n",
       "      <td>A32</td>\n",
       "      <td>A43</td>\n",
       "      <td>5951</td>\n",
       "      <td>A61</td>\n",
       "      <td>A73</td>\n",
       "      <td>2</td>\n",
       "      <td>A92</td>\n",
       "      <td>A101</td>\n",
       "      <td>...</td>\n",
       "      <td>A121</td>\n",
       "      <td>22</td>\n",
       "      <td>A143</td>\n",
       "      <td>A152</td>\n",
       "      <td>1</td>\n",
       "      <td>A173</td>\n",
       "      <td>1</td>\n",
       "      <td>A191</td>\n",
       "      <td>A201</td>\n",
       "      <td>2</td>\n",
       "    </tr>\n",
       "    <tr>\n",
       "      <th>2</th>\n",
       "      <td>A14</td>\n",
       "      <td>12</td>\n",
       "      <td>A34</td>\n",
       "      <td>A46</td>\n",
       "      <td>2096</td>\n",
       "      <td>A61</td>\n",
       "      <td>A74</td>\n",
       "      <td>2</td>\n",
       "      <td>A93</td>\n",
       "      <td>A101</td>\n",
       "      <td>...</td>\n",
       "      <td>A121</td>\n",
       "      <td>49</td>\n",
       "      <td>A143</td>\n",
       "      <td>A152</td>\n",
       "      <td>1</td>\n",
       "      <td>A172</td>\n",
       "      <td>2</td>\n",
       "      <td>A191</td>\n",
       "      <td>A201</td>\n",
       "      <td>1</td>\n",
       "    </tr>\n",
       "    <tr>\n",
       "      <th>3</th>\n",
       "      <td>A11</td>\n",
       "      <td>42</td>\n",
       "      <td>A32</td>\n",
       "      <td>A42</td>\n",
       "      <td>7882</td>\n",
       "      <td>A61</td>\n",
       "      <td>A74</td>\n",
       "      <td>2</td>\n",
       "      <td>A93</td>\n",
       "      <td>A103</td>\n",
       "      <td>...</td>\n",
       "      <td>A122</td>\n",
       "      <td>45</td>\n",
       "      <td>A143</td>\n",
       "      <td>A153</td>\n",
       "      <td>1</td>\n",
       "      <td>A173</td>\n",
       "      <td>2</td>\n",
       "      <td>A191</td>\n",
       "      <td>A201</td>\n",
       "      <td>1</td>\n",
       "    </tr>\n",
       "    <tr>\n",
       "      <th>4</th>\n",
       "      <td>A11</td>\n",
       "      <td>24</td>\n",
       "      <td>A33</td>\n",
       "      <td>A40</td>\n",
       "      <td>4870</td>\n",
       "      <td>A61</td>\n",
       "      <td>A73</td>\n",
       "      <td>3</td>\n",
       "      <td>A93</td>\n",
       "      <td>A101</td>\n",
       "      <td>...</td>\n",
       "      <td>A124</td>\n",
       "      <td>53</td>\n",
       "      <td>A143</td>\n",
       "      <td>A153</td>\n",
       "      <td>2</td>\n",
       "      <td>A173</td>\n",
       "      <td>2</td>\n",
       "      <td>A191</td>\n",
       "      <td>A201</td>\n",
       "      <td>2</td>\n",
       "    </tr>\n",
       "  </tbody>\n",
       "</table>\n",
       "<p>5 rows × 21 columns</p>\n",
       "</div>"
      ],
      "text/plain": [
       "  Status_of_existing_checking  Duration_in_month Credit_history Purpose  \\\n",
       "0                         A11                  6            A34     A43   \n",
       "1                         A12                 48            A32     A43   \n",
       "2                         A14                 12            A34     A46   \n",
       "3                         A11                 42            A32     A42   \n",
       "4                         A11                 24            A33     A40   \n",
       "\n",
       "   Credit_amount Savings_account Present_employment_since  \\\n",
       "0           1169             A65                      A75   \n",
       "1           5951             A61                      A73   \n",
       "2           2096             A61                      A74   \n",
       "3           7882             A61                      A74   \n",
       "4           4870             A61                      A73   \n",
       "\n",
       "   Installment_rate_in_percentage Personal_status_and_sex  \\\n",
       "0                               4                     A93   \n",
       "1                               2                     A92   \n",
       "2                               2                     A93   \n",
       "3                               2                     A93   \n",
       "4                               3                     A93   \n",
       "\n",
       "  Other_debtors_guarantors  ...   Property Age_in_years  \\\n",
       "0                     A101  ...       A121           67   \n",
       "1                     A101  ...       A121           22   \n",
       "2                     A101  ...       A121           49   \n",
       "3                     A103  ...       A122           45   \n",
       "4                     A101  ...       A124           53   \n",
       "\n",
       "   Other_installment_plans Housing Number_of_existing_credits   Job  \\\n",
       "0                     A143    A152                          2  A173   \n",
       "1                     A143    A152                          1  A173   \n",
       "2                     A143    A152                          1  A172   \n",
       "3                     A143    A153                          1  A173   \n",
       "4                     A143    A153                          2  A173   \n",
       "\n",
       "  Number_of_people_dependent  Telephone foreign_worker class  \n",
       "0                          1       A192           A201     1  \n",
       "1                          1       A191           A201     2  \n",
       "2                          2       A191           A201     1  \n",
       "3                          2       A191           A201     1  \n",
       "4                          2       A191           A201     2  \n",
       "\n",
       "[5 rows x 21 columns]"
      ]
     },
     "execution_count": 80,
     "metadata": {},
     "output_type": "execute_result"
    }
   ],
   "source": [
    "url = \"http://archive.ics.uci.edu/ml/machine-learning-databases/statlog/german/german.data\"\n",
    "credit = pd.read_table(url, sep = \" \", names = [\"Status_of_existing_checking\", \"Duration_in_month\", \"Credit_history\", \"Purpose\", \n",
    "                                    \"Credit_amount\", \"Savings_account\", \"Present_employment_since\", \n",
    "                                    \"Installment_rate_in_percentage\", \"Personal_status_and_sex\", \"Other_debtors_guarantors\",\n",
    "                                   \"Present_residence_since\", \"Property\", \"Age_in_years\", \"Other_installment_plans\",\n",
    "                                   \"Housing\", \"Number_of_existing_credits\", \"Job\", \"Number_of_people_dependent\", \"Telephone\",\n",
    "                                   \"foreign_worker\", \"class\"])\n",
    "credit.head()"
   ]
  },
  {
   "cell_type": "markdown",
   "metadata": {},
   "source": [
    "#### All categorical data are represented as symbolic like A11 except for the class attribute which happen to be 1 and 2 (1 = Good,  2 = Bad) while all numerical variables are represented in the original form."
   ]
  },
  {
   "cell_type": "markdown",
   "metadata": {},
   "source": [
    "## Univariate analysis of some categorical variables"
   ]
  },
  {
   "cell_type": "markdown",
   "metadata": {
    "collapsed": true
   },
   "source": [
    "### First, Let's visualize the class variable"
   ]
  },
  {
   "cell_type": "code",
   "execution_count": 5,
   "metadata": {},
   "outputs": [
    {
     "data": {
      "text/plain": [
       "1    700\n",
       "2    300\n",
       "Name: class, dtype: int64"
      ]
     },
     "execution_count": 5,
     "metadata": {},
     "output_type": "execute_result"
    }
   ],
   "source": [
    "credit[\"class\"].value_counts()"
   ]
  },
  {
   "cell_type": "markdown",
   "metadata": {},
   "source": [
    "The class count shows that the dataset represent 70% good and 30% bad credits\n",
    "#### Let's represent this in a bar chart"
   ]
  },
  {
   "cell_type": "code",
   "execution_count": 4,
   "metadata": {},
   "outputs": [
    {
     "data": {
      "text/plain": [
       "Text(0,0.5,'Number of occurence')"
      ]
     },
     "execution_count": 4,
     "metadata": {},
     "output_type": "execute_result"
    },
    {
     "data": {
      "image/png": "[encoded data removed]",
      "text/plain": [
       "<matplotlib.figure.Figure at 0x25a81257b70>"
      ]
     },
     "metadata": {},
     "output_type": "display_data"
    }
   ],
   "source": [
    "cr_count = credit[\"class\"].value_counts()\n",
    "plt.figure(figsize=(8,6))\n",
    "sns.barplot(cr_count.index, cr_count.values, color='brown')\n",
    "plt.xticks(rotation='vertical')\n",
    "plt.xlabel('class')\n",
    "plt.ylabel('Number of occurence')"
   ]
  },
  {
   "cell_type": "markdown",
   "metadata": {},
   "source": [
    "#### Let's now explore other categorical variables"
   ]
  },
  {
   "cell_type": "markdown",
   "metadata": {},
   "source": [
    "### count of Status_of_existing_checking"
   ]
  },
  {
   "cell_type": "code",
   "execution_count": 6,
   "metadata": {},
   "outputs": [
    {
     "data": {
      "text/plain": [
       "A14    394\n",
       "A11    274\n",
       "A12    269\n",
       "A13     63\n",
       "Name: Status_of_existing_checking, dtype: int64"
      ]
     },
     "execution_count": 6,
     "metadata": {},
     "output_type": "execute_result"
    }
   ],
   "source": [
    "credit[\"Status_of_existing_checking\"].value_counts()"
   ]
  },
  {
   "cell_type": "markdown",
   "metadata": {},
   "source": [
    "### Status_of_existing_checking bar chart"
   ]
  },
  {
   "cell_type": "code",
   "execution_count": 35,
   "metadata": {},
   "outputs": [
    {
     "data": {
      "text/plain": [
       "<matplotlib.text.Text at 0x1d7352a1908>"
      ]
     },
     "execution_count": 35,
     "metadata": {},
     "output_type": "execute_result"
    },
    {
     "data": {
      "image/png": "[encoded data removed]",
      "text/plain": [
       "<matplotlib.figure.Figure at 0x1d735285cf8>"
      ]
     },
     "metadata": {},
     "output_type": "display_data"
    }
   ],
   "source": [
    "cr_count = credit[\"Status_of_existing_checking\"].value_counts()\n",
    "plt.figure(figsize=(8,6))\n",
    "sns.barplot(cr_count.index, cr_count.values, color='blue')\n",
    "plt.xticks(rotation='vertical')\n",
    "plt.xlabel('Status_of_existing_checking')\n",
    "plt.ylabel('Number of occurence')"
   ]
  },
  {
   "cell_type": "markdown",
   "metadata": {},
   "source": [
    "### count of Credit_history"
   ]
  },
  {
   "cell_type": "code",
   "execution_count": 36,
   "metadata": {},
   "outputs": [
    {
     "data": {
      "text/plain": [
       "A32    530\n",
       "A34    293\n",
       "A33     88\n",
       "A31     49\n",
       "A30     40\n",
       "Name: Credit_history, dtype: int64"
      ]
     },
     "execution_count": 36,
     "metadata": {},
     "output_type": "execute_result"
    }
   ],
   "source": [
    "credit[\"Credit_history\"].value_counts()"
   ]
  },
  {
   "cell_type": "markdown",
   "metadata": {},
   "source": [
    "### Credit_history bar chart"
   ]
  },
  {
   "cell_type": "code",
   "execution_count": 37,
   "metadata": {},
   "outputs": [
    {
     "data": {
      "text/plain": [
       "<matplotlib.text.Text at 0x1d7352eb908>"
      ]
     },
     "execution_count": 37,
     "metadata": {},
     "output_type": "execute_result"
    },
    {
     "data": {
      "image/png": "[encoded data removed]",
      "text/plain": [
       "<matplotlib.figure.Figure at 0x1d7352b07b8>"
      ]
     },
     "metadata": {},
     "output_type": "display_data"
    }
   ],
   "source": [
    "chist_count = credit[\"Credit_history\"].value_counts()\n",
    "plt.figure(figsize=(8,6))\n",
    "sns.barplot(chist_count.index, chist_count.values, color='blue')\n",
    "plt.xticks(rotation='vertical')\n",
    "plt.xlabel('Credit_history')\n",
    "plt.ylabel('Number of occurence')"
   ]
  },
  {
   "cell_type": "markdown",
   "metadata": {},
   "source": [
    "### count of Purpose"
   ]
  },
  {
   "cell_type": "code",
   "execution_count": 38,
   "metadata": {},
   "outputs": [
    {
     "data": {
      "text/plain": [
       "A43     280\n",
       "A40     234\n",
       "A42     181\n",
       "A41     103\n",
       "A49      97\n",
       "A46      50\n",
       "A45      22\n",
       "A410     12\n",
       "A44      12\n",
       "A48       9\n",
       "Name: Purpose, dtype: int64"
      ]
     },
     "execution_count": 38,
     "metadata": {},
     "output_type": "execute_result"
    }
   ],
   "source": [
    "credit[\"Purpose\"].value_counts()"
   ]
  },
  {
   "cell_type": "markdown",
   "metadata": {},
   "source": [
    "### Purpose bar chart"
   ]
  },
  {
   "cell_type": "code",
   "execution_count": 39,
   "metadata": {},
   "outputs": [
    {
     "data": {
      "text/plain": [
       "<matplotlib.text.Text at 0x1d73539cd30>"
      ]
     },
     "execution_count": 39,
     "metadata": {},
     "output_type": "execute_result"
    },
    {
     "data": {
      "image/png": "[encoded data removed]",
      "text/plain": [
       "<matplotlib.figure.Figure at 0x1d73537df60>"
      ]
     },
     "metadata": {},
     "output_type": "display_data"
    }
   ],
   "source": [
    "pur_count = credit[\"Purpose\"].value_counts()\n",
    "plt.figure(figsize=(8,6))\n",
    "sns.barplot(pur_count.index, pur_count.values, color='blue')\n",
    "plt.xticks(rotation='vertical')\n",
    "plt.xlabel('Purpose')\n",
    "plt.ylabel('Number of occurence')"
   ]
  },
  {
   "cell_type": "markdown",
   "metadata": {},
   "source": [
    "## Univariate analysis of some numerical variables"
   ]
  },
  {
   "cell_type": "markdown",
   "metadata": {},
   "source": [
    "### count of Savings_account"
   ]
  },
  {
   "cell_type": "code",
   "execution_count": 7,
   "metadata": {},
   "outputs": [
    {
     "data": {
      "text/plain": [
       "A61    603\n",
       "A65    183\n",
       "A62    103\n",
       "A63     63\n",
       "A64     48\n",
       "Name: Savings_account, dtype: int64"
      ]
     },
     "execution_count": 7,
     "metadata": {},
     "output_type": "execute_result"
    }
   ],
   "source": [
    "credit[\"Savings_account\"].value_counts()"
   ]
  },
  {
   "cell_type": "code",
   "execution_count": 11,
   "metadata": {},
   "outputs": [
    {
     "data": {
      "text/plain": [
       "Text(0,0.5,'Number of occurence')"
      ]
     },
     "execution_count": 11,
     "metadata": {},
     "output_type": "execute_result"
    },
    {
     "data": {
      "image/png": "[encoded data removed]",
      "text/plain": [
       "<matplotlib.figure.Figure at 0x25a815af668>"
      ]
     },
     "metadata": {},
     "output_type": "display_data"
    }
   ],
   "source": [
    "sav_count = credit[\"Savings_account\"].value_counts()\n",
    "plt.figure(figsize=(8,6))\n",
    "sns.barplot(sav_count.index, sav_count.values, color='blue')\n",
    "plt.xticks(rotation='vertical')\n",
    "plt.xlabel('Savings_account')\n",
    "plt.ylabel('Number of occurence')"
   ]
  },
  {
   "cell_type": "code",
   "execution_count": 42,
   "metadata": {},
   "outputs": [
    {
     "data": {
      "text/plain": [
       "<matplotlib.axes._subplots.AxesSubplot at 0x1d7355c0a90>"
      ]
     },
     "execution_count": 42,
     "metadata": {},
     "output_type": "execute_result"
    },
    {
     "data": {
      "image/png": "[encoded data removed]",
      "text/plain": [
       "<matplotlib.figure.Figure at 0x1d7355cf320>"
      ]
     },
     "metadata": {},
     "output_type": "display_data"
    }
   ],
   "source": [
    "#Histogram for Duration_in_month\n",
    "credit['Duration_in_month'].hist()"
   ]
  },
  {
   "cell_type": "markdown",
   "metadata": {},
   "source": [
    "#### Duration in month is skewed to the left"
   ]
  },
  {
   "cell_type": "code",
   "execution_count": 49,
   "metadata": {},
   "outputs": [
    {
     "name": "stderr",
     "output_type": "stream",
     "text": [
      "C:\\Users\\Afeez\\Anaconda3\\lib\\site-packages\\ipykernel\\__main__.py:2: FutureWarning: \n",
      "The default value for 'return_type' will change to 'axes' in a future release.\n",
      " To use the future behavior now, set return_type='axes'.\n",
      " To keep the previous behavior and silence this warning, set return_type='dict'.\n",
      "  from ipykernel import kernelapp as app\n"
     ]
    },
    {
     "data": {
      "text/plain": [
       "{'boxes': [<matplotlib.lines.Line2D at 0x1d7369af320>],\n",
       " 'caps': [<matplotlib.lines.Line2D at 0x1d7369b7d30>,\n",
       "  <matplotlib.lines.Line2D at 0x1d7369b7e80>],\n",
       " 'fliers': [<matplotlib.lines.Line2D at 0x1d7369bbf60>],\n",
       " 'means': [],\n",
       " 'medians': [<matplotlib.lines.Line2D at 0x1d7369bb710>],\n",
       " 'whiskers': [<matplotlib.lines.Line2D at 0x1d7369afc50>,\n",
       "  <matplotlib.lines.Line2D at 0x1d7369afda0>]}"
      ]
     },
     "execution_count": 49,
     "metadata": {},
     "output_type": "execute_result"
    },
    {
     "data": {
      "image/png": "[encoded data removed]",
      "text/plain": [
       "<matplotlib.figure.Figure at 0x1d736914ac8>"
      ]
     },
     "metadata": {},
     "output_type": "display_data"
    }
   ],
   "source": [
    "#Boxplot for Duration_in_month\n",
    "credit.boxplot(column='Duration_in_month')"
   ]
  },
  {
   "cell_type": "code",
   "execution_count": 43,
   "metadata": {},
   "outputs": [
    {
     "data": {
      "text/plain": [
       "<matplotlib.axes._subplots.AxesSubplot at 0x1d7355ff198>"
      ]
     },
     "execution_count": 43,
     "metadata": {},
     "output_type": "execute_result"
    },
    {
     "data": {
      "image/png": "[encoded data removed]",
      "text/plain": [
       "<matplotlib.figure.Figure at 0x1d735665630>"
      ]
     },
     "metadata": {},
     "output_type": "display_data"
    }
   ],
   "source": [
    "#Histogram for Credit_amount\n",
    "credit['Credit_amount'].hist()"
   ]
  },
  {
   "cell_type": "markdown",
   "metadata": {},
   "source": [
    "#### Credit amount is skewed to the left"
   ]
  },
  {
   "cell_type": "code",
   "execution_count": 48,
   "metadata": {},
   "outputs": [
    {
     "name": "stderr",
     "output_type": "stream",
     "text": [
      "C:\\Users\\Afeez\\Anaconda3\\lib\\site-packages\\ipykernel\\__main__.py:2: FutureWarning: \n",
      "The default value for 'return_type' will change to 'axes' in a future release.\n",
      " To use the future behavior now, set return_type='axes'.\n",
      " To keep the previous behavior and silence this warning, set return_type='dict'.\n",
      "  from ipykernel import kernelapp as app\n"
     ]
    },
    {
     "data": {
      "text/plain": [
       "{'boxes': [<matplotlib.lines.Line2D at 0x1d73693bda0>],\n",
       " 'caps': [<matplotlib.lines.Line2D at 0x1d7369487f0>,\n",
       "  <matplotlib.lines.Line2D at 0x1d736948f60>],\n",
       " 'fliers': [<matplotlib.lines.Line2D at 0x1d73694da20>],\n",
       " 'means': [],\n",
       " 'medians': [<matplotlib.lines.Line2D at 0x1d73694d1d0>],\n",
       " 'whiskers': [<matplotlib.lines.Line2D at 0x1d73693bf98>,\n",
       "  <matplotlib.lines.Line2D at 0x1d736942f60>]}"
      ]
     },
     "execution_count": 48,
     "metadata": {},
     "output_type": "execute_result"
    },
    {
     "data": {
      "image/png": "[encoded data removed]",
      "text/plain": [
       "<matplotlib.figure.Figure at 0x1d7368f2ac8>"
      ]
     },
     "metadata": {},
     "output_type": "display_data"
    }
   ],
   "source": [
    "#Boxplot for Credit_amount\n",
    "credit.boxplot(column='Credit_amount')"
   ]
  },
  {
   "cell_type": "code",
   "execution_count": 44,
   "metadata": {},
   "outputs": [
    {
     "data": {
      "text/plain": [
       "<matplotlib.axes._subplots.AxesSubplot at 0x1d7356a24a8>"
      ]
     },
     "execution_count": 44,
     "metadata": {},
     "output_type": "execute_result"
    },
    {
     "data": {
      "image/png": "[encoded data removed]",
      "text/plain": [
       "<matplotlib.figure.Figure at 0x1d7356a8cf8>"
      ]
     },
     "metadata": {},
     "output_type": "display_data"
    }
   ],
   "source": [
    "#Histogram for Installment_rate_in_percentage\n",
    "credit['Installment_rate_in_percentage'].hist()"
   ]
  },
  {
   "cell_type": "code",
   "execution_count": 47,
   "metadata": {},
   "outputs": [
    {
     "name": "stderr",
     "output_type": "stream",
     "text": [
      "C:\\Users\\Afeez\\Anaconda3\\lib\\site-packages\\ipykernel\\__main__.py:2: FutureWarning: \n",
      "The default value for 'return_type' will change to 'axes' in a future release.\n",
      " To use the future behavior now, set return_type='axes'.\n",
      " To keep the previous behavior and silence this warning, set return_type='dict'.\n",
      "  from ipykernel import kernelapp as app\n"
     ]
    },
    {
     "data": {
      "text/plain": [
       "{'boxes': [<matplotlib.lines.Line2D at 0x1d7368d1c88>],\n",
       " 'caps': [<matplotlib.lines.Line2D at 0x1d7368d9f98>,\n",
       "  <matplotlib.lines.Line2D at 0x1d7368ddf28>],\n",
       " 'fliers': [<matplotlib.lines.Line2D at 0x1d7368e4ef0>],\n",
       " 'means': [],\n",
       " 'medians': [<matplotlib.lines.Line2D at 0x1d7368e40b8>],\n",
       " 'whiskers': [<matplotlib.lines.Line2D at 0x1d7368d1e80>,\n",
       "  <matplotlib.lines.Line2D at 0x1d7368d9e48>]}"
      ]
     },
     "execution_count": 47,
     "metadata": {},
     "output_type": "execute_result"
    },
    {
     "data": {
      "image/png": "[encoded data removed]",
      "text/plain": [
       "<matplotlib.figure.Figure at 0x1d735847128>"
      ]
     },
     "metadata": {},
     "output_type": "display_data"
    }
   ],
   "source": [
    "#Boxplot for Installment_rate_in_percentage\n",
    "credit.boxplot(column='Installment_rate_in_percentage')"
   ]
  },
  {
   "cell_type": "markdown",
   "metadata": {
    "collapsed": true
   },
   "source": [
    "# Model building\n",
    "### Pre-processing\n",
    "\n",
    "Categorical data are in positions 0, 2, 3, 5, 6, 8, 9, 11, 13, 14, 16, 18, and 19"
   ]
  },
  {
   "cell_type": "code",
   "execution_count": 83,
   "metadata": {},
   "outputs": [],
   "source": [
    "X = credit.iloc[:, 0:-1].values\n",
    "y = credit.iloc[:, -1].values"
   ]
  },
  {
   "cell_type": "code",
   "execution_count": 84,
   "metadata": {},
   "outputs": [
    {
     "data": {
      "text/plain": [
       "array(['A11', 6, 'A34', 'A43', 1169, 'A65', 'A75', 4, 'A93', 'A101', 4,\n",
       "       'A121', 67, 'A143', 'A152', 2, 'A173', 1, 'A192', 'A201'],\n",
       "      dtype=object)"
      ]
     },
     "execution_count": 84,
     "metadata": {},
     "output_type": "execute_result"
    }
   ],
   "source": [
    "X[0, 0:20]"
   ]
  },
  {
   "cell_type": "code",
   "execution_count": 85,
   "metadata": {},
   "outputs": [
    {
     "data": {
      "text/plain": [
       "array([1, 2, 1, 1], dtype=int64)"
      ]
     },
     "execution_count": 85,
     "metadata": {},
     "output_type": "execute_result"
    }
   ],
   "source": [
    "y[0:4]"
   ]
  },
  {
   "cell_type": "code",
   "execution_count": 86,
   "metadata": {},
   "outputs": [
    {
     "data": {
      "text/plain": [
       "array([0, 6, 'A34', 'A43', 1169, 'A65', 'A75', 4, 'A93', 'A101'],\n",
       "      dtype=object)"
      ]
     },
     "execution_count": 86,
     "metadata": {},
     "output_type": "execute_result"
    }
   ],
   "source": [
    "# Encoding categorical data\n",
    "from sklearn.preprocessing import LabelEncoder, OneHotEncoder\n",
    "#label encode the categorical variable in position 0\n",
    "X[:, 0] = LabelEncoder().fit_transform(X[:, 0])\n",
    "X[0, 0:10]"
   ]
  },
  {
   "cell_type": "code",
   "execution_count": 87,
   "metadata": {},
   "outputs": [
    {
     "data": {
      "text/plain": [
       "array([0, 6, 'A34', 'A43', 1169, 'A65', 'A75', 4, 'A93', 'A101', 4,\n",
       "       'A121', 67, 'A143', 'A152', 2, 'A173', 1, 'A192', 'A201'],\n",
       "      dtype=object)"
      ]
     },
     "execution_count": 87,
     "metadata": {},
     "output_type": "execute_result"
    }
   ],
   "source": [
    "X[0, 0:20]"
   ]
  },
  {
   "cell_type": "markdown",
   "metadata": {},
   "source": [
    "As expected, the first column was label encoded\n",
    "#### Let's now the same for the rest of the categorical data: \n",
    "Positions 2, 3, 5, 6, 8, 9, 11, 13, 14, 16, 18, and 19"
   ]
  },
  {
   "cell_type": "code",
   "execution_count": 88,
   "metadata": {},
   "outputs": [
    {
     "data": {
      "text/plain": [
       "array([0, 6, 4, 4, 1169, 4, 4, 4, 2, 0], dtype=object)"
      ]
     },
     "execution_count": 88,
     "metadata": {},
     "output_type": "execute_result"
    }
   ],
   "source": [
    "X[:, 2] = LabelEncoder().fit_transform(X[:, 2])\n",
    "X[:, 3] = LabelEncoder().fit_transform(X[:, 3])\n",
    "X[:, 5] = LabelEncoder().fit_transform(X[:, 5])\n",
    "X[:, 6] = LabelEncoder().fit_transform(X[:, 6])\n",
    "X[:, 8] = LabelEncoder().fit_transform(X[:, 8])\n",
    "X[:, 9] = LabelEncoder().fit_transform(X[:, 9])\n",
    "X[:, 11] = LabelEncoder().fit_transform(X[:, 11])\n",
    "X[:, 13] = LabelEncoder().fit_transform(X[:, 13])\n",
    "X[:, 14] = LabelEncoder().fit_transform(X[:, 14])\n",
    "X[:, 16] = LabelEncoder().fit_transform(X[:, 16])\n",
    "X[:, 18] = LabelEncoder().fit_transform(X[:, 18])\n",
    "X[:, 19] = LabelEncoder().fit_transform(X[:, 19])\n",
    "X[0, 0:10]"
   ]
  },
  {
   "cell_type": "code",
   "execution_count": 89,
   "metadata": {},
   "outputs": [
    {
     "data": {
      "text/plain": [
       "array([0, 6, 4, 4, 1169, 4, 4, 4, 2, 0, 4, 0, 67, 2, 1, 2, 2, 1, 1, 0],\n",
       "      dtype=object)"
      ]
     },
     "execution_count": 89,
     "metadata": {},
     "output_type": "execute_result"
    }
   ],
   "source": [
    "X[0, 0:20]"
   ]
  },
  {
   "cell_type": "markdown",
   "metadata": {},
   "source": [
    "Since some categories are up to 4 or more levels, It is important that we one hot encode all categorical variable so that the algorithm can recognize the present of a category as true or false. This will ensure that high weight is not given to the category encoded as 4 while given low weight to the ones encoded as 0. Rather, it will understand it as beign present or absent.\n",
    "#### categorical positions: 0, 2, 3, 5, 6, 8, 9, 11, 13, 14, 16, 18, and 19"
   ]
  },
  {
   "cell_type": "code",
   "execution_count": 90,
   "metadata": {},
   "outputs": [],
   "source": [
    "#one hot encode all the categorical variables\n",
    "onehotencoder = OneHotEncoder(categorical_features = [0, 2, 3, 5, 6, 8, 9, 11, 13, 14, 16, 18, 19])\n",
    "X = onehotencoder.fit_transform(X).toarray()"
   ]
  },
  {
   "cell_type": "code",
   "execution_count": 91,
   "metadata": {},
   "outputs": [
    {
     "data": {
      "text/plain": [
       "array([0, 6, 4, 4, 1169, 4, 4, 4, 2, 0, 4, 0, 67, 2, 1, 2, 2, 1, 1, 0],\n",
       "      dtype=object)"
      ]
     },
     "execution_count": 91,
     "metadata": {},
     "output_type": "execute_result"
    }
   ],
   "source": [
    "X[0, 0:]"
   ]
  },
  {
   "cell_type": "code",
   "execution_count": 92,
   "metadata": {},
   "outputs": [],
   "source": [
    "# Splitting the dataset into the Training set and Test set 75% for training, 25% for test \n",
    "from sklearn.model_selection import train_test_split\n",
    "X_train, X_test, y_train, y_test = train_test_split(X, y, test_size = 0.25, random_state = 0)"
   ]
  },
  {
   "cell_type": "code",
   "execution_count": 93,
   "metadata": {},
   "outputs": [
    {
     "name": "stderr",
     "output_type": "stream",
     "text": [
      "C:\\Users\\Afeez\\Anaconda3\\envs\\tensorflow\\lib\\site-packages\\sklearn\\utils\\validation.py:475: DataConversionWarning: Data with input dtype object was converted to float64 by StandardScaler.\n",
      "  warnings.warn(msg, DataConversionWarning)\n"
     ]
    }
   ],
   "source": [
    "# Feature Scaling\n",
    "from sklearn.preprocessing import StandardScaler\n",
    "sc = StandardScaler()\n",
    "X_train = sc.fit_transform(X_train)\n",
    "X_test = sc.transform(X_test)"
   ]
  },
  {
   "cell_type": "code",
   "execution_count": 94,
   "metadata": {},
   "outputs": [
    {
     "data": {
      "text/plain": [
       "array([ 1.14180917,  0.27781426,  0.40669939, -0.12126781,  0.32090437,\n",
       "       -0.06154432, -0.33825807, -0.89731234,  0.41792845, -0.31180888,\n",
       "        0.11412108, -0.33479323, -0.08066924,  0.44802639,  0.13153139,\n",
       "        1.01250495,  0.16292637, -0.41678402, -0.83937206, -0.19324699])"
      ]
     },
     "execution_count": 94,
     "metadata": {},
     "output_type": "execute_result"
    }
   ],
   "source": [
    "X_train[0, 0:]"
   ]
  },
  {
   "cell_type": "code",
   "execution_count": 95,
   "metadata": {},
   "outputs": [
    {
     "data": {
      "text/plain": [
       "(750, 20)"
      ]
     },
     "execution_count": 95,
     "metadata": {},
     "output_type": "execute_result"
    }
   ],
   "source": [
    "X_train.shape"
   ]
  },
  {
   "cell_type": "markdown",
   "metadata": {},
   "source": [
    "#### we have 61 columns and 750 columns in the training set, which is 75% of 1000 records. "
   ]
  },
  {
   "cell_type": "markdown",
   "metadata": {},
   "source": [
    "## let's now train the ANN"
   ]
  },
  {
   "cell_type": "code",
   "execution_count": 42,
   "metadata": {},
   "outputs": [
    {
     "name": "stderr",
     "output_type": "stream",
     "text": [
      "C:\\Users\\Afeez\\Anaconda3\\envs\\tensorflow\\lib\\site-packages\\h5py\\__init__.py:36: FutureWarning: Conversion of the second argument of issubdtype from `float` to `np.floating` is deprecated. In future, it will be treated as `np.float64 == np.dtype(float).type`.\n",
      "  from ._conv import register_converters as _register_converters\n",
      "Using Theano backend.\n",
      "WARNING (theano.tensor.blas): Using NumPy C-API based implementation for BLAS functions.\n"
     ]
    }
   ],
   "source": [
    "# Importing the Keras libraries and packages\n",
    "import keras\n",
    "from keras.models import Sequential\n",
    "from keras.layers import Dense"
   ]
  },
  {
   "cell_type": "code",
   "execution_count": 96,
   "metadata": {},
   "outputs": [],
   "source": [
    "# Initialising the ANN\n",
    "classifier = Sequential()\n",
    "\n",
    "# Adding the input layer and the first hidden layer\n",
    "classifier.add(Dense(units = 10, kernel_initializer = 'uniform', activation = 'relu', input_dim = 20))\n",
    "\n",
    "# Adding the second hidden layer\n",
    "classifier.add(Dense(units = 4, kernel_initializer = 'uniform', activation = 'relu'))\n",
    "\n",
    "# Adding the output layer\n",
    "classifier.add(Dense(units = 1, kernel_initializer = 'uniform', activation = 'sigmoid'))"
   ]
  },
  {
   "cell_type": "code",
   "execution_count": 97,
   "metadata": {},
   "outputs": [],
   "source": [
    "# Compiling the ANN using stochastic gradient descent optimzer\n",
    "classifier.compile(optimizer = 'adam', loss = 'binary_crossentropy', metrics = ['accuracy'])"
   ]
  },
  {
   "cell_type": "code",
   "execution_count": 98,
   "metadata": {},
   "outputs": [
    {
     "name": "stdout",
     "output_type": "stream",
     "text": [
      "Epoch 1/100\n",
      "750/750 [==============================] - 0s 244us/step - loss: 0.6490 - acc: 0.6973\n",
      "Epoch 2/100\n",
      "750/750 [==============================] - 0s 238us/step - loss: 0.4305 - acc: 0.6987\n",
      "Epoch 3/100\n",
      "750/750 [==============================] - 0s 235us/step - loss: -0.1321 - acc: 0.6987\n",
      "Epoch 4/100\n",
      "750/750 [==============================] - 0s 228us/step - loss: -0.9777 - acc: 0.6987\n",
      "Epoch 5/100\n",
      "750/750 [==============================] - 0s 223us/step - loss: -2.2374 - acc: 0.6987\n",
      "Epoch 6/100\n",
      "750/750 [==============================] - 0s 228us/step - loss: -3.4935 - acc: 0.6987\n",
      "Epoch 7/100\n",
      "750/750 [==============================] - 0s 226us/step - loss: -3.9774 - acc: 0.6987\n",
      "Epoch 8/100\n",
      "750/750 [==============================] - 0s 222us/step - loss: -4.2066 - acc: 0.6987\n",
      "Epoch 9/100\n",
      "750/750 [==============================] - 0s 243us/step - loss: -4.3401 - acc: 0.6987\n",
      "Epoch 10/100\n",
      "750/750 [==============================] - 0s 240us/step - loss: -4.4516 - acc: 0.6987\n",
      "Epoch 11/100\n",
      "750/750 [==============================] - 0s 207us/step - loss: -4.5425 - acc: 0.6987\n",
      "Epoch 12/100\n",
      "750/750 [==============================] - 0s 230us/step - loss: -4.6031 - acc: 0.6987\n",
      "Epoch 13/100\n",
      "750/750 [==============================] - 0s 227us/step - loss: -4.6606 - acc: 0.6987\n",
      "Epoch 14/100\n",
      "750/750 [==============================] - 0s 223us/step - loss: -4.7099 - acc: 0.6987\n",
      "Epoch 15/100\n",
      "750/750 [==============================] - 0s 246us/step - loss: -4.7360 - acc: 0.6987\n",
      "Epoch 16/100\n",
      "750/750 [==============================] - 0s 227us/step - loss: -4.7524 - acc: 0.6987\n",
      "Epoch 17/100\n",
      "750/750 [==============================] - 0s 234us/step - loss: -4.7640 - acc: 0.6987\n",
      "Epoch 18/100\n",
      "750/750 [==============================] - 0s 218us/step - loss: -4.7701 - acc: 0.6987\n",
      "Epoch 19/100\n",
      "750/750 [==============================] - 0s 230us/step - loss: -4.7757 - acc: 0.6987\n",
      "Epoch 20/100\n",
      "750/750 [==============================] - 0s 223us/step - loss: -4.7795 - acc: 0.6987\n",
      "Epoch 21/100\n",
      "750/750 [==============================] - 0s 246us/step - loss: -4.7836 - acc: 0.6987\n",
      "Epoch 22/100\n",
      "750/750 [==============================] - 0s 238us/step - loss: -4.7893 - acc: 0.6987\n",
      "Epoch 23/100\n",
      "750/750 [==============================] - 0s 250us/step - loss: -4.7923 - acc: 0.6987\n",
      "Epoch 24/100\n",
      "750/750 [==============================] - 0s 224us/step - loss: -4.7947 - acc: 0.6987\n",
      "Epoch 25/100\n",
      "750/750 [==============================] - 0s 226us/step - loss: -4.7955 - acc: 0.6987\n",
      "Epoch 26/100\n",
      "750/750 [==============================] - 0s 227us/step - loss: -4.7962 - acc: 0.6987\n",
      "Epoch 27/100\n",
      "750/750 [==============================] - 0s 244us/step - loss: -4.7970 - acc: 0.6987\n",
      "Epoch 28/100\n",
      "750/750 [==============================] - 0s 228us/step - loss: -4.7978 - acc: 0.6987\n",
      "Epoch 29/100\n",
      "750/750 [==============================] - 0s 207us/step - loss: -4.7986 - acc: 0.6987\n",
      "Epoch 30/100\n",
      "750/750 [==============================] - 0s 226us/step - loss: -4.7995 - acc: 0.6987\n",
      "Epoch 31/100\n",
      "750/750 [==============================] - 0s 235us/step - loss: -4.8004 - acc: 0.6987\n",
      "Epoch 32/100\n",
      "750/750 [==============================] - 0s 232us/step - loss: -4.8013 - acc: 0.6987\n",
      "Epoch 33/100\n",
      "750/750 [==============================] - 0s 247us/step - loss: -4.8024 - acc: 0.6987\n",
      "Epoch 34/100\n",
      "750/750 [==============================] - 0s 263us/step - loss: -4.8038 - acc: 0.6987\n",
      "Epoch 35/100\n",
      "750/750 [==============================] - 0s 252us/step - loss: -4.8038 - acc: 0.6987\n",
      "Epoch 36/100\n",
      "750/750 [==============================] - 0s 242us/step - loss: -4.8038 - acc: 0.6987\n",
      "Epoch 37/100\n",
      "750/750 [==============================] - 0s 223us/step - loss: -4.8038 - acc: 0.6987\n",
      "Epoch 38/100\n",
      "750/750 [==============================] - 0s 242us/step - loss: -4.8038 - acc: 0.6987\n",
      "Epoch 39/100\n",
      "750/750 [==============================] - 0s 271us/step - loss: -4.8038 - acc: 0.6987\n",
      "Epoch 40/100\n",
      "750/750 [==============================] - 0s 251us/step - loss: -4.8038 - acc: 0.6987\n",
      "Epoch 41/100\n",
      "750/750 [==============================] - 0s 244us/step - loss: -4.8039 - acc: 0.6987\n",
      "Epoch 42/100\n",
      "750/750 [==============================] - 0s 226us/step - loss: -4.8039 - acc: 0.6987\n",
      "Epoch 43/100\n",
      "750/750 [==============================] - 0s 230us/step - loss: -4.8039 - acc: 0.6987\n",
      "Epoch 44/100\n",
      "750/750 [==============================] - 0s 238us/step - loss: -4.8039 - acc: 0.6987\n",
      "Epoch 45/100\n",
      "750/750 [==============================] - 0s 223us/step - loss: -4.8039 - acc: 0.6987\n",
      "Epoch 46/100\n",
      "750/750 [==============================] - 0s 222us/step - loss: -4.8039 - acc: 0.6987\n",
      "Epoch 47/100\n",
      "750/750 [==============================] - 0s 230us/step - loss: -4.8039 - acc: 0.6987\n",
      "Epoch 48/100\n",
      "750/750 [==============================] - 0s 208us/step - loss: -4.8039 - acc: 0.6987\n",
      "Epoch 49/100\n",
      "750/750 [==============================] - 0s 226us/step - loss: -4.8039 - acc: 0.6987\n",
      "Epoch 50/100\n",
      "750/750 [==============================] - 0s 227us/step - loss: -4.8039 - acc: 0.6987\n",
      "Epoch 51/100\n",
      "750/750 [==============================] - 0s 224us/step - loss: -4.8039 - acc: 0.6987\n",
      "Epoch 52/100\n",
      "750/750 [==============================] - 0s 254us/step - loss: -4.8039 - acc: 0.6987\n",
      "Epoch 53/100\n",
      "750/750 [==============================] - 0s 216us/step - loss: -4.8039 - acc: 0.6987\n",
      "Epoch 54/100\n",
      "750/750 [==============================] - 0s 214us/step - loss: -4.8039 - acc: 0.6987\n",
      "Epoch 55/100\n",
      "750/750 [==============================] - 0s 219us/step - loss: -4.8039 - acc: 0.6987\n",
      "Epoch 56/100\n",
      "750/750 [==============================] - 0s 207us/step - loss: -4.8039 - acc: 0.6987\n",
      "Epoch 57/100\n",
      "750/750 [==============================] - 0s 235us/step - loss: -4.8039 - acc: 0.6987\n",
      "Epoch 58/100\n",
      "750/750 [==============================] - 0s 218us/step - loss: -4.8039 - acc: 0.6987\n",
      "Epoch 59/100\n",
      "750/750 [==============================] - 0s 222us/step - loss: -4.8039 - acc: 0.6987\n",
      "Epoch 60/100\n",
      "750/750 [==============================] - 0s 219us/step - loss: -4.8039 - acc: 0.6987\n",
      "Epoch 61/100\n",
      "750/750 [==============================] - 0s 222us/step - loss: -4.8039 - acc: 0.6987\n",
      "Epoch 62/100\n",
      "750/750 [==============================] - 0s 266us/step - loss: -4.8039 - acc: 0.6987\n",
      "Epoch 63/100\n",
      "750/750 [==============================] - 0s 248us/step - loss: -4.8039 - acc: 0.6987\n",
      "Epoch 64/100\n",
      "750/750 [==============================] - 0s 208us/step - loss: -4.8039 - acc: 0.6987\n",
      "Epoch 65/100\n",
      "750/750 [==============================] - 0s 207us/step - loss: -4.8039 - acc: 0.6987\n",
      "Epoch 66/100\n",
      "750/750 [==============================] - 0s 207us/step - loss: -4.8039 - acc: 0.6987\n",
      "Epoch 67/100\n",
      "750/750 [==============================] - 0s 220us/step - loss: -4.8039 - acc: 0.6987\n",
      "Epoch 68/100\n",
      "750/750 [==============================] - 0s 216us/step - loss: -4.8039 - acc: 0.6987\n",
      "Epoch 69/100\n",
      "750/750 [==============================] - 0s 238us/step - loss: -4.8039 - acc: 0.6987\n",
      "Epoch 70/100\n",
      "750/750 [==============================] - 0s 204us/step - loss: -4.8039 - acc: 0.6987\n",
      "Epoch 71/100\n",
      "750/750 [==============================] - 0s 207us/step - loss: -4.8039 - acc: 0.6987\n",
      "Epoch 72/100\n",
      "750/750 [==============================] - 0s 204us/step - loss: -4.8039 - acc: 0.6987\n",
      "Epoch 73/100\n",
      "750/750 [==============================] - 0s 227us/step - loss: -4.8039 - acc: 0.6987\n",
      "Epoch 74/100\n",
      "750/750 [==============================] - 0s 210us/step - loss: -4.8039 - acc: 0.6987\n",
      "Epoch 75/100\n",
      "750/750 [==============================] - 0s 211us/step - loss: -4.8039 - acc: 0.6987\n",
      "Epoch 76/100\n",
      "750/750 [==============================] - 0s 230us/step - loss: -4.8039 - acc: 0.6987\n",
      "Epoch 77/100\n",
      "750/750 [==============================] - 0s 200us/step - loss: -4.8039 - acc: 0.6987\n",
      "Epoch 78/100\n",
      "750/750 [==============================] - 0s 223us/step - loss: -4.8039 - acc: 0.6987\n",
      "Epoch 79/100\n",
      "750/750 [==============================] - 0s 219us/step - loss: -4.8039 - acc: 0.6987\n",
      "Epoch 80/100\n",
      "750/750 [==============================] - 0s 198us/step - loss: -4.8039 - acc: 0.6987\n",
      "Epoch 81/100\n",
      "750/750 [==============================] - 0s 216us/step - loss: -4.8039 - acc: 0.6987\n",
      "Epoch 82/100\n",
      "750/750 [==============================] - 0s 236us/step - loss: -4.8039 - acc: 0.6987\n",
      "Epoch 83/100\n"
     ]
    },
    {
     "name": "stdout",
     "output_type": "stream",
     "text": [
      "750/750 [==============================] - 0s 230us/step - loss: -4.8039 - acc: 0.6987\n",
      "Epoch 84/100\n",
      "750/750 [==============================] - 0s 236us/step - loss: -4.8039 - acc: 0.6987\n",
      "Epoch 85/100\n",
      "750/750 [==============================] - 0s 208us/step - loss: -4.8039 - acc: 0.6987\n",
      "Epoch 86/100\n",
      "750/750 [==============================] - 0s 219us/step - loss: -4.8039 - acc: 0.6987\n",
      "Epoch 87/100\n",
      "750/750 [==============================] - 0s 219us/step - loss: -4.8039 - acc: 0.6987\n",
      "Epoch 88/100\n",
      "750/750 [==============================] - 0s 234us/step - loss: -4.8039 - acc: 0.6987\n",
      "Epoch 89/100\n",
      "750/750 [==============================] - 0s 206us/step - loss: -4.8039 - acc: 0.6987\n",
      "Epoch 90/100\n",
      "750/750 [==============================] - 0s 204us/step - loss: -4.8039 - acc: 0.6987\n",
      "Epoch 91/100\n",
      "750/750 [==============================] - 0s 224us/step - loss: -4.8039 - acc: 0.6987\n",
      "Epoch 92/100\n",
      "750/750 [==============================] - 0s 220us/step - loss: -4.8039 - acc: 0.6987\n",
      "Epoch 93/100\n",
      "750/750 [==============================] - 0s 223us/step - loss: -4.8039 - acc: 0.6987\n",
      "Epoch 94/100\n",
      "750/750 [==============================] - 0s 222us/step - loss: -4.8039 - acc: 0.6987\n",
      "Epoch 95/100\n",
      "750/750 [==============================] - 0s 247us/step - loss: -4.8039 - acc: 0.6987\n",
      "Epoch 96/100\n",
      "750/750 [==============================] - 0s 208us/step - loss: -4.8039 - acc: 0.6987\n",
      "Epoch 97/100\n",
      "750/750 [==============================] - 0s 220us/step - loss: -4.8039 - acc: 0.6987\n",
      "Epoch 98/100\n",
      "750/750 [==============================] - 0s 218us/step - loss: -4.8040 - acc: 0.6987\n",
      "Epoch 99/100\n",
      "750/750 [==============================] - 0s 208us/step - loss: -4.8040 - acc: 0.6987\n",
      "Epoch 100/100\n",
      "750/750 [==============================] - 0s 219us/step - loss: -4.8040 - acc: 0.6987\n"
     ]
    },
    {
     "data": {
      "text/plain": [
       "<keras.callbacks.History at 0x25a865b0eb8>"
      ]
     },
     "execution_count": 98,
     "metadata": {},
     "output_type": "execute_result"
    }
   ],
   "source": [
    "# Fitting the ANN to the Training set\n",
    "classifier.fit(X_train, y_train, batch_size = 10, epochs = 100)\n",
    "#classifier.fit(X_train, y_train, batch_size = 32, epochs = 200)"
   ]
  },
  {
   "cell_type": "markdown",
   "metadata": {},
   "source": [
    "## Making predictions and evaluating the model"
   ]
  },
  {
   "cell_type": "code",
   "execution_count": 77,
   "metadata": {},
   "outputs": [],
   "source": [
    "# Predicting the Test set results\n",
    "y_pred = classifier.predict(X_test)\n",
    "y_pred = (y_pred > 0.5)\n"
   ]
  },
  {
   "cell_type": "code",
   "execution_count": 78,
   "metadata": {},
   "outputs": [],
   "source": [
    "# Making the Confusion Matrix\n",
    "from sklearn.metrics import confusion_matrix\n",
    "cm = confusion_matrix(y_test, y_pred)"
   ]
  },
  {
   "cell_type": "code",
   "execution_count": 79,
   "metadata": {},
   "outputs": [
    {
     "data": {
      "text/plain": [
       "array([[176,   0],\n",
       "       [ 74,   0]], dtype=int64)"
      ]
     },
     "execution_count": 79,
     "metadata": {},
     "output_type": "execute_result"
    }
   ],
   "source": [
    "cm"
   ]
  },
  {
   "cell_type": "code",
   "execution_count": 99,
   "metadata": {},
   "outputs": [
    {
     "data": {
      "text/plain": [
       "0.704"
      ]
     },
     "execution_count": 99,
     "metadata": {},
     "output_type": "execute_result"
    }
   ],
   "source": [
    "accuracy = (176+0)/(176+0+74+0)\n",
    "accuracy"
   ]
  },
  {
   "cell_type": "markdown",
   "metadata": {},
   "source": [
    "The model predicts all 176 good creadits correctly and fails to predict all bad 74 credits correctly with accuracy of 70%. \n",
    "The model is not a good model especially if the company is interested in detecting the bad credits which is often the case. \n",
    "I suspect either overfitting or underfitting. Also, the class imbalance of 70% to 30% could play a role in the poor \n",
    "performance of the model. \n",
    "In the future, we will need to address the following:\n",
    "    1. overfitting and underfitting using cross validation and hyper-parameter tuning.\n",
    "    2. Class imbalance by one of oversampling, undersampling or using hybrid and other heuristic methods.\n",
    "    "
   ]
  },
  {
   "cell_type": "code",
   "execution_count": null,
   "metadata": {},
   "outputs": [],
   "source": []
  }
 ],
 "metadata": {
  "kernelspec": {
   "display_name": "Python 3",
   "language": "python",
   "name": "python3"
  },
  "language_info": {
   "codemirror_mode": {
    "name": "ipython",
    "version": 3
   },
   "file_extension": ".py",
   "mimetype": "text/x-python",
   "name": "python",
   "nbconvert_exporter": "python",
   "pygments_lexer": "ipython3",
   "version": "3.7.0"
  }
 },
 "nbformat": 4,
 "nbformat_minor": 1
}
