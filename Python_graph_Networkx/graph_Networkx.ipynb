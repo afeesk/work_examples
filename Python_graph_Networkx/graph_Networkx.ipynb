{
 "cells": [
  {
   "cell_type": "markdown",
   "metadata": {},
   "source": [
    "### Problem discription"
   ]
  },
  {
   "cell_type": "markdown",
   "metadata": {},
   "source": [
    "An exploratory analysis of small/medium-scale protein-protein interactions levergaing networkx library in python.The dataset is the CE-LC worm(C.elegans) available on https://www.inetbio.org/wormnet/downloadnetwork.php. \n",
    "\n",
    "The first step require building an undirected graph network. During the analysis, the number of nodes, number of edges, the average degree of the network and the density of the network were calculated. Also, the minimum spanning tree in graph was determined and plotted. The degree distribution histogram was also plotted.\n",
    "\n",
    "Furthermore, the largest connected component of the network (LC) was determined and plotted. The diameter and the center of the LC graph was calculated. The number of clique communities with 3 nodes in the LC graph was also calculated.\n",
    "\n",
    "The centrality measures were calculated to determine the name of the protein that when changing its status has potentially the biggest effect on the rest of the network. The centrality measure was possible on all methods except for the eigenvector centrality where calculation failed due to convergence. The centrality measures were calculated to determine the influencial protein."
   ]
  },
  {
   "cell_type": "markdown",
   "metadata": {},
   "source": [
    "### Code and Plots"
   ]
  },
  {
   "cell_type": "code",
   "execution_count": 1,
   "metadata": {},
   "outputs": [],
   "source": [
    "import pandas as pd\n",
    "import numpy as np\n",
    "import networkx as nx\n",
    "import matplotlib.pyplot as plt\n",
    "%matplotlib inline"
   ]
  },
  {
   "cell_type": "code",
   "execution_count": 2,
   "metadata": {},
   "outputs": [
    {
     "data": {
      "text/html": [
       "<div>\n",
       "<style scoped>\n",
       "    .dataframe tbody tr th:only-of-type {\n",
       "        vertical-align: middle;\n",
       "    }\n",
       "\n",
       "    .dataframe tbody tr th {\n",
       "        vertical-align: top;\n",
       "    }\n",
       "\n",
       "    .dataframe thead th {\n",
       "        text-align: right;\n",
       "    }\n",
       "</style>\n",
       "<table border=\"1\" class=\"dataframe\">\n",
       "  <thead>\n",
       "    <tr style=\"text-align: right;\">\n",
       "      <th></th>\n",
       "      <th>source</th>\n",
       "      <th>target</th>\n",
       "      <th>weight</th>\n",
       "    </tr>\n",
       "  </thead>\n",
       "  <tbody>\n",
       "    <tr>\n",
       "      <th>0</th>\n",
       "      <td>AC3.3</td>\n",
       "      <td>AC3.4</td>\n",
       "      <td>2.945855</td>\n",
       "    </tr>\n",
       "    <tr>\n",
       "      <th>1</th>\n",
       "      <td>AC3.3</td>\n",
       "      <td>C03A7.14</td>\n",
       "      <td>2.895269</td>\n",
       "    </tr>\n",
       "    <tr>\n",
       "      <th>2</th>\n",
       "      <td>AC3.3</td>\n",
       "      <td>C05D2.1</td>\n",
       "      <td>2.390948</td>\n",
       "    </tr>\n",
       "    <tr>\n",
       "      <th>3</th>\n",
       "      <td>AC3.3</td>\n",
       "      <td>C37C3.6</td>\n",
       "      <td>2.945855</td>\n",
       "    </tr>\n",
       "    <tr>\n",
       "      <th>4</th>\n",
       "      <td>AC3.3</td>\n",
       "      <td>Y39B6A.1</td>\n",
       "      <td>2.852143</td>\n",
       "    </tr>\n",
       "  </tbody>\n",
       "</table>\n",
       "</div>"
      ],
      "text/plain": [
       "  source    target    weight\n",
       "0  AC3.3     AC3.4  2.945855\n",
       "1  AC3.3  C03A7.14  2.895269\n",
       "2  AC3.3   C05D2.1  2.390948\n",
       "3  AC3.3   C37C3.6  2.945855\n",
       "4  AC3.3  Y39B6A.1  2.852143"
      ]
     },
     "execution_count": 2,
     "metadata": {},
     "output_type": "execute_result"
    }
   ],
   "source": [
    "data = pd.read_table(\"CE-LC.txt\", names = ['source', 'target', 'weight'])\n",
    "data.head()"
   ]
  },
  {
   "cell_type": "markdown",
   "metadata": {},
   "source": [
    "#### 1-    Build the corresponding network (G) with Networkx"
   ]
  },
  {
   "cell_type": "code",
   "execution_count": 3,
   "metadata": {},
   "outputs": [
    {
     "data": {
      "text/plain": [
       "<networkx.classes.graph.Graph at 0x245c48419b0>"
      ]
     },
     "execution_count": 3,
     "metadata": {},
     "output_type": "execute_result"
    }
   ],
   "source": [
    "G = nx.from_pandas_edgelist(data, edge_attr=True)\n",
    "G"
   ]
  },
  {
   "cell_type": "markdown",
   "metadata": {},
   "source": [
    "#### 2-    What are number of nodes, number of edges and the average degree of the network?"
   ]
  },
  {
   "cell_type": "markdown",
   "metadata": {},
   "source": [
    "(a) What are number of nodes"
   ]
  },
  {
   "cell_type": "code",
   "execution_count": 4,
   "metadata": {},
   "outputs": [
    {
     "data": {
      "text/plain": [
       "1387"
      ]
     },
     "execution_count": 4,
     "metadata": {},
     "output_type": "execute_result"
    }
   ],
   "source": [
    "nx.number_of_nodes(G)"
   ]
  },
  {
   "cell_type": "markdown",
   "metadata": {},
   "source": [
    "(b) What are number of edges "
   ]
  },
  {
   "cell_type": "code",
   "execution_count": 5,
   "metadata": {},
   "outputs": [
    {
     "data": {
      "text/plain": [
       "1648"
      ]
     },
     "execution_count": 5,
     "metadata": {},
     "output_type": "execute_result"
    }
   ],
   "source": [
    "nx.number_of_edges(G)"
   ]
  },
  {
   "cell_type": "markdown",
   "metadata": {},
   "source": [
    "(c) The average degree of the network"
   ]
  },
  {
   "cell_type": "code",
   "execution_count": 6,
   "metadata": {},
   "outputs": [
    {
     "data": {
      "text/plain": [
       "2.3763518385003604"
      ]
     },
     "execution_count": 6,
     "metadata": {},
     "output_type": "execute_result"
    }
   ],
   "source": [
    "list_degree = list(nx.degree(G))\n",
    "sum_degree = sum([value for key, value in list_degree])\n",
    "average_degree = sum_degree/(G.number_of_nodes())\n",
    "average_degree"
   ]
  },
  {
   "cell_type": "markdown",
   "metadata": {},
   "source": [
    "#### 3-    What is the density of the network."
   ]
  },
  {
   "cell_type": "code",
   "execution_count": 7,
   "metadata": {},
   "outputs": [
    {
     "data": {
      "text/plain": [
       "0.001714539566017576"
      ]
     },
     "execution_count": 7,
     "metadata": {},
     "output_type": "execute_result"
    }
   ],
   "source": [
    "nx.density(G)"
   ]
  },
  {
   "cell_type": "markdown",
   "metadata": {},
   "source": [
    "#### 4-    Find the minimum spanning tree in G and draw it."
   ]
  },
  {
   "cell_type": "code",
   "execution_count": 8,
   "metadata": {},
   "outputs": [],
   "source": [
    "T = nx.algorithms.minimum_spanning_tree(G)"
   ]
  },
  {
   "cell_type": "code",
   "execution_count": 9,
   "metadata": {},
   "outputs": [
    {
     "data": {
      "image/png": "[encoded data removed]",
      "text/plain": [
       "<Figure size 576x576 with 1 Axes>"
      ]
     },
     "metadata": {},
     "output_type": "display_data"
    }
   ],
   "source": [
    "plt.figure(figsize = (8,8))\n",
    "nx.draw(T)\n",
    "plt.show()"
   ]
  },
  {
   "cell_type": "markdown",
   "metadata": {},
   "source": [
    "#### 5-    Draw the degree distribution histogram."
   ]
  },
  {
   "cell_type": "code",
   "execution_count": 10,
   "metadata": {},
   "outputs": [
    {
     "data": {
      "image/png": "[encoded data removed]",
      "text/plain": [
       "<Figure size 432x288 with 1 Axes>"
      ]
     },
     "metadata": {
      "needs_background": "light"
     },
     "output_type": "display_data"
    }
   ],
   "source": [
    "import collections\n",
    "# degree sequence print \"Degree sequence\", degree_sequence\n",
    "degree_sequence = sorted([d for n, d in nx.degree(G)], reverse=True)  \n",
    "degreeCount = collections.Counter(degree_sequence)\n",
    "deg, cnt = zip(*degreeCount.items())\n",
    "\n",
    "fig, ax = plt.subplots()\n",
    "plt.bar(deg, cnt, width=0.5, color='blue')\n",
    "\n",
    "plt.title(\"Degree Histogram\")\n",
    "plt.ylabel(\"Count\")\n",
    "plt.xlabel(\"Degree\")\n",
    "plt.show()"
   ]
  },
  {
   "cell_type": "markdown",
   "metadata": {},
   "source": [
    "#### 6-    Find the largest connected component of the network  (LC) and answer the following questions about LC (or implement the tasks):\n",
    "\n",
    "1. Draw LC.\n",
    "2. What is its diameter?\n",
    "3. What is the center of LC?\n",
    "4. What is the number of clique communities with 3 nodes?\n",
    "5. (Optional, for 3 extra points) What is the name of the protein that changing its status has potentially the biggest effect on the rest of the network?"
   ]
  },
  {
   "cell_type": "code",
   "execution_count": 11,
   "metadata": {},
   "outputs": [
    {
     "data": {
      "text/plain": [
       "<networkx.classes.graph.Graph at 0x245c5e89cc0>"
      ]
     },
     "execution_count": 11,
     "metadata": {},
     "output_type": "execute_result"
    }
   ],
   "source": [
    "LC = max(nx.connected_component_subgraphs(G), key=len)\n",
    "LC"
   ]
  },
  {
   "cell_type": "markdown",
   "metadata": {},
   "source": [
    "**1. Draw LC.**"
   ]
  },
  {
   "cell_type": "code",
   "execution_count": 12,
   "metadata": {},
   "outputs": [
    {
     "data": {
      "image/png": "[encoded data removed]",
      "text/plain": [
       "<Figure size 576x576 with 1 Axes>"
      ]
     },
     "metadata": {},
     "output_type": "display_data"
    }
   ],
   "source": [
    "plt.figure(figsize = (8,8))\n",
    "nx.draw(LC)\n",
    "plt.show()"
   ]
  },
  {
   "cell_type": "markdown",
   "metadata": {},
   "source": [
    "**2. What is its diameter?**"
   ]
  },
  {
   "cell_type": "code",
   "execution_count": 13,
   "metadata": {},
   "outputs": [
    {
     "data": {
      "text/plain": [
       "22"
      ]
     },
     "execution_count": 13,
     "metadata": {},
     "output_type": "execute_result"
    }
   ],
   "source": [
    "nx.diameter(LC)"
   ]
  },
  {
   "cell_type": "markdown",
   "metadata": {},
   "source": [
    "**3. What is the center of LC?**"
   ]
  },
  {
   "cell_type": "code",
   "execution_count": 14,
   "metadata": {},
   "outputs": [
    {
     "data": {
      "text/plain": [
       "['C37A5.9', 'C54D1.6']"
      ]
     },
     "execution_count": 14,
     "metadata": {},
     "output_type": "execute_result"
    }
   ],
   "source": [
    "nx.center(LC)"
   ]
  },
  {
   "cell_type": "markdown",
   "metadata": {},
   "source": [
    "**4. What is the number of clique communities with 3 nodes?**"
   ]
  },
  {
   "cell_type": "code",
   "execution_count": 15,
   "metadata": {},
   "outputs": [
    {
     "data": {
      "text/plain": [
       "9"
      ]
     },
     "execution_count": 15,
     "metadata": {},
     "output_type": "execute_result"
    }
   ],
   "source": [
    "#A k-clique community is the union of all cliques of size k \n",
    "#that can be reached through adjacent (sharing k-1 nodes) k-cliques.\n",
    "#so 3 nodes => k-1 nodes => 4-1 nodes = 3 nodes\n",
    "c = list(nx.algorithms.community.k_clique_communities(LC, k= 4))\n",
    "len(c)"
   ]
  },
  {
   "cell_type": "markdown",
   "metadata": {},
   "source": [
    "**5. (Optional, for 3 extra points) What is the name of the protein that changing its status has potentially the biggest effect on the rest of the network?**"
   ]
  },
  {
   "cell_type": "markdown",
   "metadata": {},
   "source": [
    "**Using degree count:** The node F15B10.2 has the highest degree of 68. This node is more influencial degree-wise among its pairs and may pose huge effect on the network if it changes status."
   ]
  },
  {
   "cell_type": "code",
   "execution_count": 16,
   "metadata": {},
   "outputs": [
    {
     "name": "stdout",
     "output_type": "stream",
     "text": [
      "F15B10.2 68\n"
     ]
    }
   ],
   "source": [
    "maxkey = None\n",
    "maxval = None\n",
    "list_degree = list(nx.degree(LC))\n",
    "for keys, values in list_degree:\n",
    "    if maxval == None or maxval < values:\n",
    "        maxval = values\n",
    "        maxkey = keys\n",
    "print(maxkey, maxval)"
   ]
  },
  {
   "cell_type": "markdown",
   "metadata": {},
   "source": [
    "**Using degree centrality measure:** The node F15B10.2 has the highest degree centrality of approximately 0.0689. This node is more central among its pairs and may pose huge effect on the network if it changes status."
   ]
  },
  {
   "cell_type": "code",
   "execution_count": 17,
   "metadata": {},
   "outputs": [
    {
     "name": "stdout",
     "output_type": "stream",
     "text": [
      "F15B10.2 0.06854838709677419\n"
     ]
    }
   ],
   "source": [
    "maxkey = None\n",
    "maxval = None\n",
    "degree_centrality = nx.degree_centrality(LC)\n",
    "for keys, values in degree_centrality.items():\n",
    "    if maxval == None or maxval < values:\n",
    "        maxval = values\n",
    "        maxkey = keys\n",
    "print(maxkey, maxval)"
   ]
  },
  {
   "cell_type": "markdown",
   "metadata": {},
   "source": [
    "**Using closeness centrality:** The node Y50D4C.1 has the lowest closeness centrality of approximately 0.0647. This node has the might have better access to information at other nodes or more direct influence on other nodes and may pose huge effect on the network if it changes status."
   ]
  },
  {
   "cell_type": "code",
   "execution_count": 18,
   "metadata": {},
   "outputs": [
    {
     "name": "stdout",
     "output_type": "stream",
     "text": [
      "Y50D4C.1 0.06467175174392073\n"
     ]
    }
   ],
   "source": [
    "minkey = None\n",
    "minval = None\n",
    "closeness_centrality = nx.closeness_centrality(LC)\n",
    "for keys, values in closeness_centrality.items():\n",
    "    if minval == None or minval > values:\n",
    "        minval = values\n",
    "        minkey = keys\n",
    "print(minkey, minval)"
   ]
  },
  {
   "cell_type": "markdown",
   "metadata": {},
   "source": [
    "**Using betweenness centrality:** The node C23G10.4 has the highest betweenness centrality of approximately 0.1632. This node has the highest betwenness centrality value among its pairs and may pose huge effect on the network if it changes status."
   ]
  },
  {
   "cell_type": "code",
   "execution_count": 19,
   "metadata": {},
   "outputs": [
    {
     "name": "stdout",
     "output_type": "stream",
     "text": [
      "C23G10.4 0.16317993052751278\n"
     ]
    }
   ],
   "source": [
    "maxkey = None\n",
    "maxval = None\n",
    "betweenness_centrality = nx.betweenness_centrality(LC)\n",
    "for keys, values in betweenness_centrality.items():\n",
    "    if maxval == None or maxval < values:\n",
    "        maxval = values\n",
    "        maxkey = keys\n",
    "print(maxkey, maxval)"
   ]
  },
  {
   "cell_type": "markdown",
   "metadata": {},
   "source": [
    "**Using degree eigenvector centrality:** This method failed due to convergence"
   ]
  },
  {
   "cell_type": "code",
   "execution_count": 20,
   "metadata": {},
   "outputs": [
    {
     "data": {
      "text/plain": [
       "'\\n#Using degree eigenvector centrality: This method failed due to convergence\\nmaxkey = None\\nmaxval = None\\neigen_vector_centrality = nx.eigenvector_centrality(LC)\\nfor keys, values in eigen_vector_centrality.items():\\n    if maxval == None or maxval < values:\\n        maxval = values\\n        maxkey = keys\\nprint(maxkey, maxval)\\n'"
      ]
     },
     "execution_count": 20,
     "metadata": {},
     "output_type": "execute_result"
    }
   ],
   "source": [
    "\"\"\"\n",
    "#Using degree eigenvector centrality: This method failed due to convergence\n",
    "maxkey = None\n",
    "maxval = None\n",
    "eigen_vector_centrality = nx.eigenvector_centrality(LC)\n",
    "for keys, values in eigen_vector_centrality.items():\n",
    "    if maxval == None or maxval < values:\n",
    "        maxval = values\n",
    "        maxkey = keys\n",
    "print(maxkey, maxval)\n",
    "\"\"\"\n"
   ]
  },
  {
   "cell_type": "code",
   "execution_count": null,
   "metadata": {},
   "outputs": [],
   "source": []
  }
 ],
 "metadata": {
  "kernelspec": {
   "display_name": "Python 3",
   "language": "python",
   "name": "python3"
  },
  "language_info": {
   "codemirror_mode": {
    "name": "ipython",
    "version": 3
   },
   "file_extension": ".py",
   "mimetype": "text/x-python",
   "name": "python",
   "nbconvert_exporter": "python",
   "pygments_lexer": "ipython3",
   "version": "3.7.0"
  }
 },
 "nbformat": 4,
 "nbformat_minor": 2
}
